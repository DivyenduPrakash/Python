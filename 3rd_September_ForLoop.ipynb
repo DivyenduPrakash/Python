{
  "nbformat": 4,
  "nbformat_minor": 0,
  "metadata": {
    "colab": {
      "provenance": []
    },
    "kernelspec": {
      "name": "python3",
      "display_name": "Python 3"
    },
    "language_info": {
      "name": "python"
    }
  },
  "cells": [
    {
      "cell_type": "code",
      "execution_count": null,
      "metadata": {
        "id": "x7ITBhq6RboT"
      },
      "outputs": [],
      "source": [
        "#1. Write a Python program to print the numbers from 1 to 10 using a `for` loop.\n",
        "for i in range (1 , 11 ):\n",
        "  print(i)"
      ]
    },
    {
      "cell_type": "code",
      "source": [
        "#2. Create a program that calculates the sum of all numbers in a list using a `for` loop.\n",
        "li=[1,3,4,5,6,7,8]\n",
        "sum=0\n",
        "for i in range(len(li)):\n",
        "  sum=sum+li[i]\n",
        "print(sum)"
      ],
      "metadata": {
        "id": "3-aWQ2Y6SlVr"
      },
      "execution_count": null,
      "outputs": []
    },
    {
      "cell_type": "code",
      "source": [
        "#3. Write a program to print the characters of a string in reverse order using a `for` loop.\n",
        "\n",
        "str=\"MeraNaamm\"\n",
        "li=list(str) #converting the string into a list so that the operations are easier\n",
        "n=len(str)\n",
        "high=n-1 #keeping a var high and it should point to last element initially\n",
        "low=0 #keeping a var low that points to first element initially\n",
        "for i in range(n):\n",
        "  if(low<high): #conditions fails if low becomes greater than high(basically creating a non overlapping scinario where the low , high meets )\n",
        "    temp=li[low] #temperoray var to hold value initially\n",
        "    li[low]=li[high]\n",
        "    li[high]=temp  #basic swapping operation\n",
        "  low=low+1  #increasing the low var by -1 so that it points to next element from left(start)\n",
        "  high=high-1 #decreasing the high var by +1 so that it points to next element from right (end)\n",
        "print(li)\n"
      ],
      "metadata": {
        "id": "2XTqPalgUHDu"
      },
      "execution_count": null,
      "outputs": []
    },
    {
      "cell_type": "code",
      "source": [
        "#4. Develop a program that finds the factorial of a given number using a `for` loop.\n",
        "n=int(input(\"Please enter a number you want  factorial for \"))\n",
        "fact=1\n",
        "for i in range(1,n+1):\n",
        "  fact=fact*i\n",
        "print(fact)"
      ],
      "metadata": {
        "id": "UbP_UvWkUjHq"
      },
      "execution_count": null,
      "outputs": []
    },
    {
      "cell_type": "code",
      "source": [
        "#5. Create a program to print the multiplication table of a given number using a `for` loop.\n",
        "n=int(input(\"Enter the number for which  you want the table for \"))\n",
        "mul=1\n",
        "for i in range(1,n+1):\n",
        "  mul=n*i\n",
        "  print(mul)"
      ],
      "metadata": {
        "id": "Nwz61z69jJ1H"
      },
      "execution_count": null,
      "outputs": []
    },
    {
      "cell_type": "code",
      "source": [
        "#6. Write a program that counts the number of even and odd numbers in a list using a `for` loop.\n",
        "li=[1,3,4,2,6,8,10,12,6]\n",
        "count_odd=0 #oddcounter\n",
        "count_even=0 #evencounter\n",
        "for i in range(len(li)):\n",
        "  if(li[i]%2==0): #condition for odd even check\n",
        "    count_even+=1\n",
        "  else:\n",
        "    count_odd+=1\n",
        "print(\"Count of even number:\",count_even)\n",
        "print(\"Count of odd number:\",count_odd)"
      ],
      "metadata": {
        "id": "VSw3NgsMmpXT"
      },
      "execution_count": null,
      "outputs": []
    },
    {
      "cell_type": "code",
      "source": [
        "#7. Develop a program that prints the squares of numbers from 1 to 5 using a `for` loop.\n",
        "power=1\n",
        "for i in range(1,5):\n",
        "  power=i*i\n",
        "  print(\"The power of \",i ,\"is:\",power)"
      ],
      "metadata": {
        "id": "TMIFwbrJmsWB"
      },
      "execution_count": null,
      "outputs": []
    },
    {
      "cell_type": "code",
      "source": [
        "#8. Create a program to find the length of a string without using the `len()` function.\n",
        "str=\"ThankYouPWSkills\"\n",
        "count=0\n",
        "for i in str:\n",
        "  count+=1\n",
        "print(\"The length of string is :\",count)"
      ],
      "metadata": {
        "id": "1qlPGUX3mvX3"
      },
      "execution_count": null,
      "outputs": []
    },
    {
      "cell_type": "code",
      "source": [
        "#9. Write a program that calculates the average of a list of numbers using a `for` loop.\n",
        "li=[1,3,5,6,7,8,2,7]\n",
        "n=len(li)\n",
        "sum=0\n",
        "avg=0\n",
        "for i in range(n):\n",
        "  sum=sum+li[i]\n",
        "avg=sum/n\n",
        "print(\"The Avg is :\",avg)"
      ],
      "metadata": {
        "id": "lyi0EIxYmyVj"
      },
      "execution_count": null,
      "outputs": []
    },
    {
      "cell_type": "code",
      "source": [
        "#10. Develop a program that prints the first `n` Fibonacci numbers using a `for` loop.\n",
        "\n",
        "first=0\n",
        "second=1\n",
        "n=int(input(\"enter a number\"))\n",
        "print(first)\n",
        "print(second)\n",
        "for i in range(n-2):\n",
        "  third=first+second\n",
        "  first=second\n",
        "  second=third\n",
        "  print(third)"
      ],
      "metadata": {
        "id": "pGdncVBvm01g"
      },
      "execution_count": null,
      "outputs": []
    },
    {
      "cell_type": "code",
      "source": [
        "#11  Write a program to check if a given list contains any duplicates using a `for` loop.\n",
        "n=int(input(\"plesae enter the number of elements you want to enter in the list: \"))\n",
        "li=[]  #an empty list\n",
        "for i in range(0,n):\n",
        "  ele=int(input()) #for elements input\n",
        "  li.append(ele) #adding that elememt in the list\n",
        "flag=False   #A var flag which turns true on duplicate values\n",
        "for i in range(0,len(li)-1):  #itterating through list element till 2nd last element  element\n",
        "  for j in range(i+1,len(li)): #starting from i+1 till last\n",
        "    if li[i]==li[j]: #equality check condition\n",
        "      flag=True\n",
        "      break\n",
        "if(flag==True): #if flag true than print yes duplicates available\n",
        "  print(\"list has some duplicates\")\n",
        "else :\n",
        "  print(\"list doesn't have any duplicate\")"
      ],
      "metadata": {
        "id": "HuRBPf4w3EVN"
      },
      "execution_count": null,
      "outputs": []
    },
    {
      "cell_type": "code",
      "source": [
        "#12. Create a program that prints the prime numbers in a given range using a `for` loop.\n",
        "n=int(input(\"Please enter a number upto which you want to print for loop for \"))\n",
        "for i in range(n):\n",
        "  if(i>2):\n",
        "    for j in range(2,n):\n",
        "      if(i%j==0):\n",
        "        break\n",
        "      else:\n",
        "        print(i)\n",
        "\n",
        "\n",
        "\n"
      ],
      "metadata": {
        "id": "ETAXf0KWNZNU"
      },
      "execution_count": null,
      "outputs": []
    },
    {
      "cell_type": "code",
      "source": [
        "#13. Develop a program that counts the number of vowels in a string using a `for` loop.\n",
        "str=input(\"please enter a string : \")\n",
        "count=0 #taking a counter var\n",
        "str=str.lower() #converting the string to lower case so that we don't have to check for uppercase vowels presents also\n",
        "for i in str:\n",
        "  if(i=='a' or i=='e' or i=='i' or i=='o' or i=='u' ):\n",
        "    count+=1\n",
        "print(count)"
      ],
      "metadata": {
        "id": "OESFSwf3gdPA"
      },
      "execution_count": null,
      "outputs": []
    },
    {
      "cell_type": "code",
      "source": [
        "#14. Write a program to find the maximum element in a 2D list using a nested `for` loop.\n",
        "n=int(input(\"Enter the number of rows  of the matrix\"))\n",
        "m=int(input(\"Enter the number of columns of the matrix\"))\n",
        "mat = [[int(input()) for x in range (m)] for y in range(n)] #taking user input\n",
        "max=0\n",
        "for i in range(n):\n",
        "  for j in range(m):\n",
        "    if(mat[i][j]>max): #maxcheck\n",
        "      max=mat[i][j]\n",
        "print(\"Maximum element is :\",max)\n",
        "\n",
        "\n",
        "\n"
      ],
      "metadata": {
        "id": "yumGRfTlqiYF"
      },
      "execution_count": null,
      "outputs": []
    },
    {
      "cell_type": "code",
      "source": [
        "#15. Create a program that removes all occurrences of a specific element from a list using a `for` loop.\n",
        "\n",
        "n=int(input(\"please enter the number of elemennts of the list: \"))\n",
        "lst=[]\n",
        "print(\"enter the elements\")\n",
        "for i in range(0,n):\n",
        "    ele=int(input())\n",
        "    lst.append(ele) #using append function\n",
        "z=int(input(\"please enter a element you want to remove : \"))\n",
        "for i in lst:\n",
        "  if(i==z):\n",
        "    lst.remove(i) #using basic remove function\n",
        "print(lst)\n"
      ],
      "metadata": {
        "id": "j_kHdNQ20ZXk"
      },
      "execution_count": null,
      "outputs": []
    },
    {
      "cell_type": "code",
      "source": [
        "#16. Develop a program that generates a multiplication table for numbers from 1 to 5 using a nested `for` loop.\n",
        "mul=1\n",
        "for i in range(1,5):\n",
        "  for j in range(1,11):\n",
        "    mul=i*j\n",
        "    print(i,\"*\",j,\"is\",mul)"
      ],
      "metadata": {
        "id": "KPjxtpzh62PV"
      },
      "execution_count": null,
      "outputs": []
    },
    {
      "cell_type": "code",
      "source": [
        "#17. Write a program that converts a list of Fahrenheit temperatures to Celsius using a `for` loop.\n",
        "n=int(input(\"please enter the number of elemennts of the list: \"))\n",
        "lst=[]\n",
        "lst2=[]\n",
        "print(\"Enter the Temp in Fahrenheit\")\n",
        "for i in range(0,n):\n",
        "    ele=int(input())\n",
        "    lst.append(ele)\n",
        "for i in lst:\n",
        "\n",
        "  C = (i - 32) * 5/9\n",
        "  lst2.append(C) #using append functio\n",
        "print(lst2)"
      ],
      "metadata": {
        "id": "F1B7M98aEgVu"
      },
      "execution_count": null,
      "outputs": []
    },
    {
      "cell_type": "code",
      "source": [
        "#18. Create a program to print the common elements from two lists using a `for` loop.\n",
        "lst=[] #first list\n",
        "lst2=[] #second list\n",
        "lst3=[] #third list\n",
        "n=int(input(\"enter the length of first list: \"))\n",
        "print(\"enter the elements: \")\n",
        "for i in range(0,n):      #loop for user input of first list\n",
        "    ele=int(input())\n",
        "    lst.append(ele)\n",
        "m=int(input(\"enter the length of seconfd list: \"))\n",
        "print(\"enter the elements: \")\n",
        "for i in range(0,m):    #loop for user input of Second list\n",
        "    ele=int(input())\n",
        "    lst2.append(ele)\n",
        "for i in lst:\n",
        "  for j in lst2:\n",
        "    if(i == j): #condition check\n",
        "      lst3.append(i)    #common elemnet into third list\n",
        "print(\"common element are \",lst3)"
      ],
      "metadata": {
        "id": "yI_s8UUHH7yC"
      },
      "execution_count": null,
      "outputs": []
    },
    {
      "cell_type": "code",
      "source": [
        "#19 .Develop a program that prints the pattern of right-angled triangles using a `for` loop. Use ‘*’ to draw the pattern\n",
        "n=int(input(\"Please enter the number of rows you want the star formation of :\"))\n",
        "for i in range(0,5):\n",
        "  for i in range(0,i+1):\n",
        "    print(\"*\",end=\"\")\n",
        "  print(\"\")\n"
      ],
      "metadata": {
        "id": "DFl9FAu7LgdI"
      },
      "execution_count": null,
      "outputs": []
    },
    {
      "cell_type": "code",
      "source": [
        "#20. Write a program to find the greatest common divisor (GCD) of two numbers using a `for` loop.\n",
        "def GCD_Loop( a, b):\n",
        "    if a > b:  # define the if condition\n",
        "        temp = b\n",
        "    else:\n",
        "        temp = a\n",
        "    for i in range(1, temp + 1):\n",
        "        if (( a % i == 0) and (b % i == 0 )):\n",
        "            gcd = i\n",
        "    return gcd\n",
        "x = int(input (\" Enter the first number: \") ) # take first no.\n",
        "y =int (input (\" Enter the second number: \")) # take second no.\n",
        "num = GCD_Loop(x, y) # call the gcd_fun() to find the result\n",
        "print(\"GCD of two number is: \")\n",
        "print(num) # call num"
      ],
      "metadata": {
        "id": "729CXRU7Og1n"
      },
      "execution_count": null,
      "outputs": []
    },
    {
      "cell_type": "code",
      "source": [
        "#21. Create a program that calculates the sum of the digits of numbers in a list using a list comprehension.\n",
        "n=int(input(\"enter the length of  list: \"))\n",
        "lst=[]\n",
        "print(\"enter the elements: \")\n",
        "for i in range(0,n):      #loop for user input of  list\n",
        "    ele=int(input())\n",
        "    lst.append(ele)\n",
        "result = list(map(lambda ele: sum(int(sub) for sub in str(ele)), lst)) #we have used map,lambda function to perform transformations on iterable objects\n",
        "print(result)"
      ],
      "metadata": {
        "id": "RNiGNcEw47iK"
      },
      "execution_count": null,
      "outputs": []
    },
    {
      "cell_type": "code",
      "source": [
        "#22. Write a program to find the prime factors of a given number using a `for` loop and list comprehension.\n",
        "value=int(input(\"Please enter a number\"))\n",
        "prime = [x for x in range(2, value) if all(x % y != 0 for y in range(2, x))]\n",
        "print(prime)"
      ],
      "metadata": {
        "id": "7dECCo1lEZ51"
      },
      "execution_count": null,
      "outputs": []
    },
    {
      "cell_type": "code",
      "source": [
        "#23. Develop a program that extracts unique elements from a list and stores them in a new list using a list comprehension.\n",
        "n=int(input(\"enter the length of  list: \"))\n",
        "lst=[]\n",
        "print(\"enter the elements: \")\n",
        "for i in range(0,n):      #loop for user input of  list\n",
        "    ele=int(input())\n",
        "    lst.append(ele)\n",
        "result=[]\n",
        "[result.append(x) for x in lst if x not in result]\n",
        "print(result)"
      ],
      "metadata": {
        "id": "mp7-TGfabmQ8"
      },
      "execution_count": null,
      "outputs": []
    },
    {
      "cell_type": "code",
      "source": [
        "#24 Create a program that generates a list of all palindromic numbers up to a specified limit using a list comprehension.\n",
        "def isPalindrome(x):\n",
        "  rev=0\n",
        "  temp=x\n",
        "  while(temp>0):\n",
        "    digit=temp%10\n",
        "    rev=(rev*10)+digit\n",
        "    temp=num//10\n",
        "    if (x==rev):\n",
        "      return x\n",
        "\n",
        "palindromes = [x for x in range(5) if  isPalindrome(x)]\n",
        "print(palindromes)"
      ],
      "metadata": {
        "id": "aINSXwmXo80k"
      },
      "execution_count": null,
      "outputs": []
    },
    {
      "cell_type": "code",
      "source": [
        "#25 Write a program to flatten a nested list using list comprehension.\n",
        "my_list = [[1], [2, 3], [4, 5, 6, 7]] #defiing a list\n",
        "\n",
        "flat_list = [num for sublist in my_list for num in sublist] #from each\n",
        "print(flat_list)"
      ],
      "metadata": {
        "id": "5EY3jjURq03_"
      },
      "execution_count": null,
      "outputs": []
    },
    {
      "cell_type": "code",
      "source": [
        "#26 Develop a program that computes the sum of even and odd numbers in a list separately using list comprehension.\n",
        "lst=[2,3,4,5,6,7,8,9,11]\n",
        "lst2=sum([x for x in lst if x % 2==0 ]) #for even\n",
        "lst3=sum([x for x in lst if x % 2==1]) #for odd\n",
        "print(lst2,lst3)"
      ],
      "metadata": {
        "id": "13uU-Ogkz8sm"
      },
      "execution_count": null,
      "outputs": []
    },
    {
      "cell_type": "code",
      "source": [
        "#27 Create a program that generates a list of squares of odd numbers between 1 and 10 using list comprehension\n",
        "data=[1,2,3,4,5,6,7]\n",
        "\n",
        "result = [i*i for i in data if i%2!=0]\n",
        "print(result)\n"
      ],
      "metadata": {
        "id": "n138qsBK2Ght"
      },
      "execution_count": null,
      "outputs": []
    },
    {
      "cell_type": "code",
      "source": [
        "#28 Write a program that combines two lists into a dictionary using list comprehension.\n",
        "\n",
        "lst  = [1, 2, 3]\n",
        "languages = ['python', 'c', 'c++']\n",
        "\n",
        "dictionary = {k: v for k, v in zip(lst, languages)}\n",
        "print(dictionary)"
      ],
      "metadata": {
        "colab": {
          "base_uri": "https://localhost:8080/"
        },
        "id": "5KHMjX4f_efD",
        "outputId": "d99eba55-1aea-44ca-ef77-afd25e14ec3a"
      },
      "execution_count": 40,
      "outputs": [
        {
          "output_type": "stream",
          "name": "stdout",
          "text": [
            "{1: 'python', 2: 'c', 3: 'c++'}\n"
          ]
        }
      ]
    },
    {
      "cell_type": "code",
      "source": [
        "#29 Develop a program that extracts the vowels from a string and stores them in a list using list comprehension.\n",
        "text = input('Enter text: ')\n",
        "count = 0\n",
        "vowel_list = [char for char in text if char.lower() in \"aeiou\"]\n",
        "print(len(vowel_list))\n",
        "print(vowel_list)"
      ],
      "metadata": {
        "id": "cx1gF69pAB7f"
      },
      "execution_count": null,
      "outputs": []
    },
    {
      "cell_type": "code",
      "source": [
        "#30 Create a program that removes all non-numeric characters from a list of strings using list comprehension.\n",
        "import re\n",
        "my_str = 'pwskills123'\n",
        "\n",
        "result = re.sub(r'[^0-9]', '', my_str)\n",
        "\n",
        "print(result)"
      ],
      "metadata": {
        "id": "l9Wt75QlLpzT"
      },
      "execution_count": null,
      "outputs": []
    },
    {
      "cell_type": "code",
      "source": [],
      "metadata": {
        "id": "yguXGYM9OipF"
      },
      "execution_count": null,
      "outputs": []
    }
  ]
}