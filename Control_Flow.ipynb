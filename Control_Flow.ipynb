{
  "nbformat": 4,
  "nbformat_minor": 0,
  "metadata": {
    "colab": {
      "provenance": []
    },
    "kernelspec": {
      "name": "python3",
      "display_name": "Python 3"
    },
    "language_info": {
      "name": "python"
    }
  },
  "cells": [
    {
      "cell_type": "code",
      "source": [
        "#BASIC IFELSE"
      ],
      "metadata": {
        "id": "5SmcfjMU9de_"
      },
      "execution_count": null,
      "outputs": []
    },
    {
      "cell_type": "code",
      "execution_count": null,
      "metadata": {
        "id": "PIDyuJ_cIrTC"
      },
      "outputs": [],
      "source": [
        "#1 Write a Python program to check if a given number is positive or negative.\n",
        "x=int(input(\"Please enter a number to check \"))\n",
        "if x > 1:\n",
        "  print(\"Number is positive \")\n",
        "else:\n",
        "  print(\"Number is negative \")"
      ]
    },
    {
      "cell_type": "code",
      "source": [
        "#2. Create a program that determines if a person is eligible to vote based on their age\n",
        "\n",
        "y=int(input(\"Please enter your age \"))\n",
        "if y >=18:\n",
        "      print(\"Person is eligble to vote \")\n",
        "else:\n",
        "  print(\"person is not eligible to vote\")\n"
      ],
      "metadata": {
        "id": "9jRYpF68MXzE"
      },
      "execution_count": null,
      "outputs": []
    },
    {
      "cell_type": "code",
      "source": [
        "#3. Develop a program to find the maximum of two numbers using if-else statements.\n",
        "x=int(input(\"Please enter  1st  number: \"))\n",
        "y=int(input(\"please enter the 2nd number: \"))\n",
        "if x > y:\n",
        "  print(x, \"is greater than\",y)\n",
        "else:\n",
        "  print(y, \"is greater than\",x)"
      ],
      "metadata": {
        "id": "XXXQo5ppNLRB"
      },
      "execution_count": null,
      "outputs": []
    },
    {
      "cell_type": "code",
      "source": [
        "#4. Write a Python script to classify a given year as a leap year or not.\n",
        "y=int(input(\"please enter a year \"))\n",
        "if((y % 400 == 0) or (y % 100 != 0) and (y % 4 == 0)):\n",
        "     print(\"Leap Year \")\n",
        "else :\n",
        "  print(\"not a leap year\")\n"
      ],
      "metadata": {
        "id": "IzTwX3QXQMwj"
      },
      "execution_count": null,
      "outputs": []
    },
    {
      "cell_type": "code",
      "source": [
        "#5. Create a program that checks whether a character is a vowel or a consonant.\n",
        "x=input(\"please enter the charcter\")\n",
        "if (x == 'a' or x == 'e' or x == 'i' or x == 'o' or x == 'u'):\n",
        "        print(\"Vowel\")\n",
        "else:\n",
        "  print(\"consonant\")\n",
        "\n"
      ],
      "metadata": {
        "id": "9VakijCnSzbt"
      },
      "execution_count": null,
      "outputs": []
    },
    {
      "cell_type": "code",
      "source": [
        "#6. Implement a program to determine whether a given number is even or odd.\n",
        "x=int(input(\"Please enter a number to check \"))\n",
        "if x % 2==0:\n",
        "  print(\"Even\")\n",
        "else:\n",
        "  print(\"odd\")"
      ],
      "metadata": {
        "id": "MNX6u8jxTfkk"
      },
      "execution_count": null,
      "outputs": []
    },
    {
      "cell_type": "code",
      "source": [
        "#7. Write a Python function to calculate the absolute value of a number without using the `abs()` function.\n"
      ],
      "metadata": {
        "id": "NcwpDz5-UW6I"
      },
      "execution_count": null,
      "outputs": []
    },
    {
      "cell_type": "code",
      "source": [
        "#8. Develop a program that determines the largest of three given numbers using if-else statements.\n",
        "x=int(input(\"Please enter  1st  number: \"))\n",
        "y=int(input(\"please enter the 2nd number: \"))\n",
        "z=int(input(\"Please enter  3rd   number: \"))\n",
        "if(x>y and x>z):\n",
        "  print(x,\"is greater than \",y,z)\n",
        "if (y>x and y>z):\n",
        "  print(y,\"is greater than \",x,z)\n",
        "else:\n",
        "  print(z,\"is greater than \",y,x)\n"
      ],
      "metadata": {
        "id": "d_9wCcRAWNT7"
      },
      "execution_count": null,
      "outputs": []
    },
    {
      "cell_type": "code",
      "source": [
        "#9. Create a program that checks if a given string is a palindrome.\n",
        "def isPalindrome(s):\n",
        "    return s == s[::-1]\n",
        "\n",
        "\n",
        "# Driver code\n",
        "s = input(\"Please enter a string\")\n",
        "\n",
        "ans = isPalindrome(s)\n",
        "\n",
        "if ans:\n",
        "    print(\"Yes\")\n",
        "else:\n",
        "    print(\"No\")"
      ],
      "metadata": {
        "id": "qFY24_UGXmnk"
      },
      "execution_count": null,
      "outputs": []
    },
    {
      "cell_type": "code",
      "source": [
        "#10. Write a Python program to calculate the grade based on a student's score.\n",
        "score=int(input(\"Enter marks of the student  : \"))\n",
        "if(score>=90):\n",
        "    print(\"Grade: A\")\n",
        "elif(score>=80 & score<90):\n",
        "    print(\"Grade: B\")\n",
        "elif(score>=70 & score<80):\n",
        "    print(\"Grade: C\")\n",
        "elif(score>=60 & score<70):\n",
        "    print(\"Grade: D\")\n",
        "else:\n",
        "    print(\"Grade: F\")"
      ],
      "metadata": {
        "id": "haa1wmwVZXFa"
      },
      "execution_count": null,
      "outputs": []
    },
    {
      "cell_type": "code",
      "source": [
        "#11. Write a program to find the largest among three numbers using nested if-else statements.\n",
        "x=int(input(\"Please enter  1st  number: \"))\n",
        "y=int(input(\"please enter the 2nd number: \"))\n",
        "z=int(input(\"Please enter  3rd   number: \"))\n",
        "if(x>y and x>z):\n",
        "  print(x,\"is greater than \",y,z)\n",
        "elif (y>x and y>z):\n",
        "  print(y,\"is greater than \",x,z)\n",
        "else:\n",
        "  print(z,\"is greater than \",y,x)"
      ],
      "metadata": {
        "id": "5jxl0zoGeMFM"
      },
      "execution_count": null,
      "outputs": []
    },
    {
      "cell_type": "code",
      "source": [
        "#12. Implement a program to determine if a triangle is equilateral, isosceles, or scalene.\n",
        "print(\"Input lengths of the triangle sides: \")\n",
        "\n",
        "# Request input from the user for the length of side 'x' and convert it to an integer\n",
        "x = int(input(\"x: \"))\n",
        "\n",
        "# Request input from the user for the length of side 'y' and convert it to an integer\n",
        "y = int(input(\"y: \"))\n",
        "\n",
        "# Request input from the user for the length of side 'z' and convert it to an integer\n",
        "z = int(input(\"z: \"))\n",
        "\n",
        "# Check conditions to determine the type of triangle based on the lengths of its sides\n",
        "\n",
        "# If all sides are equal, display that it's an equilateral triangle\n",
        "if x == y == z:\n",
        "    print(\"Equilateral triangle\")\n",
        "# If at least two sides are equal, display that it's an isosceles triangle\n",
        "elif x == y or y == z or z == x:\n",
        "    print(\"Isosceles triangle\")\n",
        "# If all sides have different lengths, display that it's a scalene triangle\n",
        "else:\n",
        "    print(\"Scalene triangle\")"
      ],
      "metadata": {
        "id": "GLv2wi5peks_"
      },
      "execution_count": null,
      "outputs": []
    },
    {
      "cell_type": "code",
      "source": [
        "# 13. Develop a program that checks if a year is a leap year and also if it is a century year.\n",
        "y=int(input(\"please enter a year \"))\n",
        "if((y % 400 == 0) or (y % 100 != 0) and (y % 4 == 0)):\n",
        "     print(\"Leap Year \")\n",
        "else :\n",
        "  print(\"not a leap year\")\n",
        "if(y % 100==0):\n",
        "  print(\"it is a century  year\")\n",
        "else:\n",
        "  print(\"it is not a century year\")"
      ],
      "metadata": {
        "id": "G3CWkmhokeiF"
      },
      "execution_count": null,
      "outputs": []
    },
    {
      "cell_type": "code",
      "source": [
        "#14. Write a Python script to determine if a number is positive, negative, or zero.\n",
        "y=int(input(\"please enter a number: \"))\n",
        "if(y > 0):\n",
        "  print(\"Number is positive \")\n",
        "elif(y < 0):\n",
        "  print(\"Number is negative \")\n",
        "else:\n",
        "  print(\"You have ENTERED 0\")\n",
        "\n"
      ],
      "metadata": {
        "id": "uRLH2p_tywvK"
      },
      "execution_count": null,
      "outputs": []
    },
    {
      "cell_type": "code",
      "source": [
        "#15. Create a program to check if a person is a teenager (between 13 and 19 years old).\n",
        "y=int(input(\"please enter the age of the person: \"))\n",
        "if(y>=13 and y<=19):\n",
        "  print(\"Person is a teenger\")\n",
        "else:\n",
        "  print(\"Person is not a teenger \")\n",
        "\n",
        "\n"
      ],
      "metadata": {
        "id": "Bqqi7Z_s0Jpv"
      },
      "execution_count": null,
      "outputs": []
    },
    {
      "cell_type": "code",
      "source": [
        "#16 Develop a program that determines the type of angle based on its measure (acute, obtuse, or right).\n",
        "angle=int(input(\"Please enter the angle  \"))\n",
        "if(angle>90):\n",
        "  print(\"Obtuse angle\")\n",
        "elif(angle<90):\n",
        "  print(\"Acute Angle\")\n",
        "else:\n",
        "   print(\"Its a right angle\")\n"
      ],
      "metadata": {
        "id": "L4pCUfXa4A-Q"
      },
      "execution_count": null,
      "outputs": []
    },
    {
      "cell_type": "code",
      "source": [
        "# 17 Write a Python program to calculate the roots of a quadratic equation.\n",
        "import cmath\n",
        "a = float(input('Enter a: '))\n",
        "b = float(input('Enter b: '))\n",
        "c = float(input('Enter c: '))\n",
        "\n",
        "# calculate the discriminant\n",
        "d = (b**2) - (4*a*c)\n",
        "\n",
        "# find two solutions\n",
        "sol1 = (-b-cmath.sqrt(d))/(2*a)\n",
        "sol2 = (-b+cmath.sqrt(d))/(2*a)\n",
        "print('The solution are {0} and {1}'.format(sol1,sol2))"
      ],
      "metadata": {
        "id": "W_sAQ45g9wew"
      },
      "execution_count": null,
      "outputs": []
    },
    {
      "cell_type": "code",
      "source": [
        "#18 Implement a program to determine the day of the week based on a user-provided number (1 for Monday, 2 for Tuesday, etc.).\n",
        "day=int(input(\"Please eneter a number between 1-7 :\"))\n",
        "if(day==1):\n",
        "  print(\"Monday\")\n",
        "elif(day==2):\n",
        "  print(\"Tuesday\")\n",
        "elif(day==3):\n",
        "  print(\"Wednesday\")\n",
        "elif(day==4):\n",
        "  print(\"Thusday\")\n",
        "elif(day==5):\n",
        "  print(\"Friday\")\n",
        "elif(day==6):\n",
        "  print(\"Saturday\")\n",
        "else:\n",
        "  print(\"Sunday\")\n"
      ],
      "metadata": {
        "id": "V6-brAFcD5-U"
      },
      "execution_count": null,
      "outputs": []
    },
    {
      "cell_type": "code",
      "source": [
        "#19 Create a program that determines if a year is a leap year and also if it is evenly divisible by 400.\n",
        "year=int(input(\"please enter a year\"))\n",
        "if(year % 400==0 and year % 4==0):\n",
        "  print(\"Leap year divisible by 400 also \")"
      ],
      "metadata": {
        "id": "WNK8zw4DGGSA"
      },
      "execution_count": null,
      "outputs": []
    },
    {
      "cell_type": "code",
      "source": [
        "#20. Develop a program that checks if a given number is prime or not using nested if-else statements.\n",
        "num=int(input(\"Enter a number \"))\n",
        "if num>1:\n",
        "  for i in range(2,int(num/2)+1):\n",
        "    if(num % i==0):\n",
        "      print(num,\"is not a prime number: \")\n",
        "    else:\n",
        "      print(num,\"is  a prime number: \")\n",
        "else:\n",
        "  print(num,\"is not a prime number \")\n",
        "\n",
        "\n",
        "\n"
      ],
      "metadata": {
        "id": "QXsLz2C3JE7N"
      },
      "execution_count": null,
      "outputs": []
    },
    {
      "cell_type": "code",
      "source": [
        "#21. Write a Python program to assign grades based on different ranges of scores using elif statements.\n",
        "score=int(input(\"Enter marks of the student  : \"))\n",
        "if(score>=90):\n",
        "    print(\"Grade: A\")\n",
        "elif(score>=80 & score<90):\n",
        "    print(\"Grade: B\")\n",
        "elif(score>=70 & score<80):\n",
        "    print(\"Grade: C\")\n",
        "elif(score>=60 & score<70):\n",
        "    print(\"Grade: D\")\n",
        "else:\n",
        "    print(\"Grade: F\")"
      ],
      "metadata": {
        "id": "O6ZxPKhfM2SQ"
      },
      "execution_count": null,
      "outputs": []
    },
    {
      "cell_type": "code",
      "source": [
        "#22. Implement a program to determine the type of a triangle based on its angles.'\n",
        "a=int(input(\"Please enter 1st angle of the triangle  \"))\n",
        "b=int(input(\"Please enter 2nd angle of the triangle  \"))\n",
        "c=int(input(\"please enter the third angle of the triangle \"))\n",
        "if(a+b+c==180):\n",
        "  if(a>90 or b>90 or c>90 ):\n",
        "    print(\"Its a Obtuse   Triangle\")\n",
        "  elif(a<90 and b<90 and c<90):\n",
        "    print(\"Acute  triangle\")\n",
        "  elif(a==90 or b==90 or c==90):\n",
        "    print(\"Right angle triangle\")\n",
        "else:\n",
        "  print(\"The entered angles doesn't make a triangle\")\n"
      ],
      "metadata": {
        "id": "4U9l4_ogNzT9"
      },
      "execution_count": null,
      "outputs": []
    },
    {
      "cell_type": "code",
      "source": [
        "#23 Develop a program to categorize a given person's BMI into underweight, normal, overweight, or obese using elif statements.\n",
        "w=int(input(\"enter the weight in kgs \"))\n",
        "h=int(input(\"enter the height in cms \"))\n",
        "h=(h/100)\n",
        "Bmi=w/float(h*h)\n",
        "if(Bmi<18.5):\n",
        "  print(\"Underweight\")\n",
        "elif(Bmi>=18.5 and Bmi<=24.9):\n",
        "  print(\"Normal\")\n",
        "elif(Bmi>=25 and Bmi<=29.9):\n",
        "  print(\"Overweight\")\n",
        "elif(Bmi>=30):\n",
        "  print(\"Obese\")\n",
        "\n",
        "\n"
      ],
      "metadata": {
        "id": "LAy41pDaThH9"
      },
      "execution_count": null,
      "outputs": []
    },
    {
      "cell_type": "code",
      "source": [
        "#24 Create a program that determines whether a given number is positive, negative, or zero using elif statements.\n",
        "y=int(input(\"please enter a number: \"))\n",
        "if(y > 0):\n",
        "  print(\"Number is positive \")\n",
        "elif(y < 0):\n",
        "  print(\"Number is negative \")\n",
        "else:\n",
        "  print(\"You have entered 0\")\n"
      ],
      "metadata": {
        "id": "rZCoo1AuluyE"
      },
      "execution_count": null,
      "outputs": []
    },
    {
      "cell_type": "code",
      "source": [
        "#25. Write a Python script to determine the type of a character (uppercase, lowercase, or special) using elif statements.\n",
        "str=input(\"please enter a string :\")\n",
        "for i in range(len(str)):\n",
        "  if(str[i]>='A' and str[i]<='Z'):\n",
        "    print(\"UpperCase\")\n",
        "  elif(str[i]>='a' and str[i]<='z'):\n",
        "    print(\"Lowercase\")\n",
        "  else:\n",
        "    print(\"Special\")"
      ],
      "metadata": {
        "id": "dZi5oVM3pQCP"
      },
      "execution_count": null,
      "outputs": []
    },
    {
      "cell_type": "code",
      "source": [
        "#26 Implement a program to calculate the discounted price based on different purchase amounts using elif statements.\n",
        "price=int(input(\"please enter the amount \"))\n",
        "if(price<2000 and price>=1500):\n",
        "  final_amt=(price-0.05*price)\n",
        "  print(\"Congratulations you have got the 5% discount your final amount is : \",final_amt)\n",
        "elif(price<=5000 and price>2000):\n",
        "  final_amt=(price-0.1*price)\n",
        "  print(\"Congratulations you have got the 10% discount your final amount is : \",final_amt)\n",
        "elif(price>5000):\n",
        "  final_amt=(price-0.15*price)\n",
        "  print(\"Congratulations you have got the 15% discount your final amount is : \",final_amt)\n"
      ],
      "metadata": {
        "id": "digXaF_xzU5k"
      },
      "execution_count": null,
      "outputs": []
    },
    {
      "cell_type": "code",
      "source": [
        "#27. Develop a program to calculate the electricity bill based on different consumption slabs using elif statements.\n",
        "units=int(input(\"please enter the units of electricity consumed\"))\n",
        "if (units<100):\n",
        "  print(\"The electricity bill is :\",units*5)\n",
        "elif(units<=300 and units >=100):\n",
        "    amnt=((100*5)+((units-100)*6))\n",
        "    print(\"The electricity bill is:\",amnt)"
      ],
      "metadata": {
        "id": "2tAyRFp3DxVM"
      },
      "execution_count": null,
      "outputs": []
    },
    {
      "cell_type": "code",
      "source": [
        "#28. Create a program to determine the type of quadrilateral based on its angles and sides using elif statements.\n"
      ],
      "metadata": {
        "id": "fOEslzwNPdrM"
      },
      "execution_count": null,
      "outputs": []
    },
    {
      "cell_type": "code",
      "source": [
        "#29. Write a Python script to determine the season based on a user-provided month using elif statements.\n",
        "m=input(\"please enter a month to check: \")\n",
        "if( m==\"dec\" or m==\"jan\" or m==\"nov\"):\n",
        "  print(\"This month usually fall in winter season\")\n",
        "elif(m==\"sept\" or m==\"Oct\" ):\n",
        "  print(\"This month usually fall in Autumn\")\n",
        "elif(m==\"feb\" or m==\"march\"):\n",
        "  print(\"This month usaully fall in Spring\")\n",
        "elif(m==\"apr\" or m==\"may\"):\n",
        "  print(\"This month usually fall in summer \")\n",
        "else:\n",
        "  print(\"This month is fall in monsoon \")\n",
        "\n"
      ],
      "metadata": {
        "id": "43HeIheq4HqZ"
      },
      "execution_count": null,
      "outputs": []
    },
    {
      "cell_type": "code",
      "source": [
        "#Basic Level\n"
      ],
      "metadata": {
        "id": "8327JWVK5iAC"
      },
      "execution_count": null,
      "outputs": []
    },
    {
      "cell_type": "code",
      "source": [
        "#1. Write a Python program that checks if a given number is positive, negative, or zero.\n",
        "y=int(input(\"please enter a number: \"))\n",
        "if(y > 0):\n",
        "  print(\"Number is positive \")\n",
        "elif(y < 0):\n",
        "  print(\"Number is negative \")\n",
        "else:\n",
        "  print(\"You have ENTERED 0\")\n"
      ],
      "metadata": {
        "id": "dSaBL-R9-Cgb"
      },
      "execution_count": null,
      "outputs": []
    },
    {
      "cell_type": "code",
      "source": [
        "#2. Create a program to determine if a person is eligible to vote based on their age.\n",
        "y=int(input(\"Please enter your age \"))\n",
        "if y >=18:\n",
        "      print(\"Person is eligble to vote \")\n",
        "else:\n",
        "  print(\"person is not eligible to vote\")"
      ],
      "metadata": {
        "id": "3bpnd450-UoJ"
      },
      "execution_count": null,
      "outputs": []
    },
    {
      "cell_type": "code",
      "source": [
        "#3. Write a program to find the maximum of two given numbers using conditional statements.\n",
        "x=int(input(\"please enter 1st  number:\"))\n",
        "y=int(input(\"please enter 2nd   number:\"))\n",
        "if(x>y):\n",
        "  max=x\n",
        "else:\n",
        "   max=y\n",
        "print(max)\n"
      ],
      "metadata": {
        "id": "AALDHE8v-fpv"
      },
      "execution_count": null,
      "outputs": []
    },
    {
      "cell_type": "code",
      "source": [
        "#4. Develop a program that calculates the grade of a student based on their exam score.\n",
        "score=int(input(\"Enter marks of the student  : \"))\n",
        "if(score>=90):\n",
        "    print(\"Grade: A\")\n",
        "elif(score>=80 & score<90):\n",
        "    print(\"Grade: B\")\n",
        "elif(score>=70 & score<80):\n",
        "    print(\"Grade: C\")\n",
        "elif(score>=60 & score<70):\n",
        "    print(\"Grade: D\")\n",
        "else:\n",
        "    print(\"Grade: F\")"
      ],
      "metadata": {
        "id": "EywC4qPq_bSu"
      },
      "execution_count": null,
      "outputs": []
    },
    {
      "cell_type": "code",
      "source": [
        "#5. Create a program that checks if a year is a leap year or not.\n",
        "year=int(input(\"please enter a year \"))\n",
        "if((year % 400 == 0) or (year % 100 != 0) and (year % 4 == 0)):\n",
        "     print(\"Leap Year \")\n",
        "else :\n",
        "  print(\"not a leap year\")"
      ],
      "metadata": {
        "id": "Lq6Oo_RsBWMG"
      },
      "execution_count": null,
      "outputs": []
    },
    {
      "cell_type": "code",
      "source": [
        "#6. Write a program to classify a triangle based on its sides' lengths.\n",
        "a=int(input(\"Please enter length of 1st side\"))\n",
        "b=int(input(\"please enter lenghth of 2nd side: \"))\n",
        "c=int(input(\"please enter lenghth of 3rd side: \"))\n",
        "if(a==b==c):\n",
        "  print(\"equilateral trinagle\")\n",
        "elif((a==b and a==c )or (b==a and b==c) or (c==b and c==a )):\n",
        "  print(\"Isoceles Triangle\")\n",
        "else:\n",
        "  print(\"scalane Triangle\")\n"
      ],
      "metadata": {
        "id": "iALC-OQRBiJP"
      },
      "execution_count": null,
      "outputs": []
    },
    {
      "cell_type": "code",
      "source": [
        "#7. Build a program that determines the largest of three given numbers.\n",
        "x=int(input(\"please enter 1st  number:\"))\n",
        "y=int(input(\"please enter 2nd   number:\"))\n",
        "z=int(input(\"please enter 3rd number\"))\n",
        "if(x>y and x>z):\n",
        "  max=x\n",
        "elif(y>x and y>z):\n",
        "   max=y\n",
        "else:\n",
        "      max=z\n",
        "print(\"Largest among these three are :\",max)"
      ],
      "metadata": {
        "id": "wnmFowgpDSBm"
      },
      "execution_count": null,
      "outputs": []
    },
    {
      "cell_type": "code",
      "source": [
        "#8. Develop a program that checks whether a character is a vowel or a consonant.\n",
        "x=input(\"please enter the charcter\")\n",
        "if (x == 'a' or x == 'e' or x == 'i' or x == 'o' or x == 'u'):\n",
        "        print(\"Vowel\")\n",
        "else:\n",
        "  print(\"consonant\")\n"
      ],
      "metadata": {
        "id": "QdvP6PihF7Tk"
      },
      "execution_count": null,
      "outputs": []
    },
    {
      "cell_type": "code",
      "source": [
        "#9. Create a program to calculate the total cost of a shopping cart based on discounts.\n",
        "price=int(input(\"please enter the amount \"))\n",
        "if(price<1500):\n",
        "  print(\"Sorry no discount under 1500 , your final amount to be paid is :\",price)\n",
        "elif(price<2000 and price>=1500):\n",
        "  final_amt=(price-0.05*price)\n",
        "  print(\"Congratulations you have got the 5% discount your final amount is : \",final_amt)\n",
        "elif(price<=5000 and price>2000):\n",
        "  final_amt=(price-0.1*price)\n",
        "  print(\"Congratulations you have got the 10% discount your final amount is : \",final_amt)\n",
        "elif(price>5000):\n",
        "  final_amt=(price-0.15*price)\n",
        "  print(\"Congratulations you have got the 15% discount your final amount is : \",final_amt)"
      ],
      "metadata": {
        "id": "ppNSvRJdGqQa"
      },
      "execution_count": null,
      "outputs": []
    },
    {
      "cell_type": "code",
      "source": [
        "#10. Write a program that checks if a given number is even or odd.\n",
        "x=int(input(\"please enter a number\"))\n",
        "if(x%2==0):\n",
        "  print(\"Number is even \")\n",
        "else:\n",
        "  print(\"Number is odd\")"
      ],
      "metadata": {
        "id": "DJo8Ak_9HNvi"
      },
      "execution_count": null,
      "outputs": []
    },
    {
      "cell_type": "code",
      "source": [
        "#11. Write a program that calculates the roots of a quadratic equation .\n",
        "import cmath\n",
        "a = float(input('Enter a: '))\n",
        "b = float(input('Enter b: '))\n",
        "c = float(input('Enter c: '))\n",
        "\n",
        "# calculate the discriminant\n",
        "d = (b**2) - (4*a*c)\n",
        "\n",
        "# find two solutions\n",
        "sol1 = (-b-cmath.sqrt(d))/(2*a)\n",
        "sol2 = (-b+cmath.sqrt(d))/(2*a)\n",
        "print('The solution are {0} and {1}'.format(sol1,sol2))"
      ],
      "metadata": {
        "id": "fPWPzrXYHljb"
      },
      "execution_count": null,
      "outputs": []
    },
    {
      "cell_type": "code",
      "source": [
        "#12. Create a program that determines the day of the week based on the day number (1-7).\n",
        "day=int(input(\"Please eneter a number between 1-7 :\"))\n",
        "if(day==1):\n",
        "  print(\"Monday\")\n",
        "elif(day==2):\n",
        "  print(\"Tuesday\")\n",
        "elif(day==3):\n",
        "  print(\"Wednesday\")\n",
        "elif(day==4):\n",
        "  print(\"Thusday\")\n",
        "elif(day==5):\n",
        "  print(\"Friday\")\n",
        "elif(day==6):\n",
        "  print(\"Saturday\")\n",
        "else:\n",
        "  print(\"Sunday\")"
      ],
      "metadata": {
        "id": "KLyG6wR1bgb1"
      },
      "execution_count": null,
      "outputs": []
    },
    {
      "cell_type": "code",
      "source": [
        "#13. Develop a program that calculates the factorial of a given number using recursion.\n",
        "def factorial(n):\n",
        "  if n==1:\n",
        "    return n\n",
        "  else:\n",
        "    return n*factorial(n-1)\n",
        "n=int(input(\"Enter the number\"))\n",
        "x=factorial(n)\n",
        "print(\"Fcatorial of n is \",x)\n",
        "\n"
      ],
      "metadata": {
        "id": "_hypiOyLdI_4"
      },
      "execution_count": null,
      "outputs": []
    },
    {
      "cell_type": "code",
      "source": [
        "#14. Write a program to find the largest among three numbers without using the `max()` function.\n",
        "x=int(input(\"please enter 1st  number:\"))\n",
        "y=int(input(\"please enter 2nd   number:\"))\n",
        "z=int(input(\"please enter 3rd number\"))\n",
        "if(x>y and x>z):\n",
        "  max=x\n",
        "elif(y>x and y>z):\n",
        "   max=y\n",
        "else:\n",
        "      max=z\n",
        "print(\"Largest among these three are :\",max)"
      ],
      "metadata": {
        "id": "_ZWZ419veQaI"
      },
      "execution_count": null,
      "outputs": []
    },
    {
      "cell_type": "code",
      "source": [
        "#15. Create a program that simulates a basic ATM transaction menum\n",
        "atm_pin=1234\n",
        "Money_In_Bank=50000\n",
        "pin=int(input(\"Please enter pin\"))\n",
        "if(pin==atm_pin):\n",
        "  print(\"ATM MENU\")\n",
        "  print(\"1. Withdraw cash\")\n",
        "  print(\"2. Check balance\")\n",
        "  print(\"3. Deposit money\")\n",
        "  print(\"4. Change atm pin\")\n",
        "  c=int(input(\"Please enter your desired choice: \"))\n",
        "  if(c==1):\n",
        "    print(\"please enter a amount to withdraw that can be withdrawn in denoation of 100\")\n",
        "    wm=int(input())\n",
        "    Money_In_Bank=Money_In_Bank-wm\n",
        "    print(\"Your remaining amount in account is :\",Money_In_Bank,\"Please collect your cash\")\n",
        "    exit()\n",
        "  elif(c==2):\n",
        "    print(\"The money in your account is: \", Money_In_Bank)\n",
        "    exit()\n",
        "  elif(c==3):\n",
        "    print(\"How much money you want to Deposit\")\n",
        "    Deposit=int(input())\n",
        "    Money_In_Bank+=Deposit\n",
        "    print(\"Money deposited successfully , Money in your account is: \", Money_In_Bank)\n",
        "  elif(c==4):\n",
        "    print(\"Enter the pin that you want to change:\")\n",
        "    atm_pin=int(input)\n",
        "    print(\"Your pin has been successfully changed \")\n",
        "    exit()\n",
        "  else:\n",
        "    print(\"Wrong Choice\")\n",
        "    exit()\n",
        "\n",
        "\n",
        "\n",
        "\n",
        "\n",
        "\n",
        "\n",
        "\n",
        "\n",
        "\n"
      ],
      "metadata": {
        "id": "r_WwLJDAegkz"
      },
      "execution_count": null,
      "outputs": []
    },
    {
      "cell_type": "code",
      "source": [
        "#16. Build a program that checks if a given string is a palindrome or not.\n",
        "str=input(\"input the string :\")\n",
        "reverse=str[::-1]\n",
        "if(str==reverse):\n",
        "  print(\"This string is palindrome\")\n",
        "else:\n",
        "  print(\"This string is not a palindrome\")\n"
      ],
      "metadata": {
        "id": "3MxIrsvM6CS0"
      },
      "execution_count": null,
      "outputs": []
    },
    {
      "cell_type": "code",
      "source": [
        "#17. Write a program that calculates the average of a list of numbers, excluding the smallest and largest values.\n",
        "lst=[]\n",
        "sum=0\n",
        "n=int(input(\"please enter the number of elements you want to enter in the list: \"))\n",
        "print(\"Please enter  the values in the list \")\n",
        "for i in range(n):\n",
        "  ele=int(input())\n",
        "  lst.append(ele) #adding element in the list\n",
        "lst.sort() #sorting the element in ascending order\n",
        "for i in range(1,n-1):\n",
        "  sum=sum+lst[i] #adding all element apart from smallest and largest number .\n",
        "if(n>3): #since elemnts should be atleast 4 in order to get 2 elements whose avg can be calculated cuz smallest and largest is taken out of avg calculation\n",
        "  avg=(sum/(n-2))\n",
        "elif(n==3):\n",
        "  avg=sum #if elements are only 3 then the middle element will be the avg\n",
        "print(avg)"
      ],
      "metadata": {
        "id": "ObhD5xKSKNJ3"
      },
      "execution_count": null,
      "outputs": []
    },
    {
      "cell_type": "code",
      "source": [
        "#18. Develop a program that converts a given temperature from Celsius to Fahrenheit.\n",
        "celsius=int(input(\"Enter the temp in Celsius: \"))\n",
        "Fahrenheit = ((1.8 * celsius) + 32)\n",
        "print(Fahrenheit)\n",
        "\n"
      ],
      "metadata": {
        "id": "tG8_vQUF4-cT"
      },
      "execution_count": null,
      "outputs": []
    },
    {
      "cell_type": "code",
      "source": [
        "#19. Create a program that simulates a basic calculator for addition, subtraction, multiplication, and division.\n",
        "x=int(input(\"Enter 1st number(first number should be greater than 2nd): \"))\n",
        "y=int(input(\"Enter 2nd  number: \"))\n",
        "print(\"Calculator\")\n",
        "print(\"1. Addition\")\n",
        "print(\"2. substraction\")\n",
        "print(\"3. Multiplication\")\n",
        "print(\"4. Division\")\n",
        "c=int(input(\"Please enter your desired choice: \"))\n",
        "if(c==1):\n",
        "  sum=x+y\n",
        "  print(\"Sum of \",x ,y, \"is :\",sum)\n",
        "if(c==2):\n",
        "  subs=x-y\n",
        "  print(\"Substarction  of \",x ,y, \"is :\",subs)\n",
        "if(c==3):\n",
        "  mul=x*y\n",
        "  print(\"Multiplication   of \",x ,y, \"is :\",mul)\n",
        "if(c==4):\n",
        "  div=x/y\n",
        "  print(\"Multiplication   of \",x ,y, \"is :\",div)\n",
        "\n",
        "\n",
        "\n"
      ],
      "metadata": {
        "id": "zwA7-HFdH8o7"
      },
      "execution_count": null,
      "outputs": []
    },
    {
      "cell_type": "code",
      "source": [
        "#20. Write a program that determines the roots of a cubic equation using the Cardano formula.\n",
        "import cmath\n",
        "import numpy as np\n",
        "import matplotlib.pyplot as plt\n",
        "\n",
        "\n",
        "# Define the coefficients of the cubic equation ax^3+bx^2+cx+d\n",
        "a = 1\n",
        "b = 3\n",
        "c = -2\n",
        "d = -6\n",
        "\n",
        "# calculate intermediate values\n",
        "p = (3*a*c - b**2) / (3*a**2)\n",
        "q = (2*b**3 - 9*a*b*c + 27*a**2*d) / (27*a**3)\n",
        "delta = (q**2 / 4 + p**3 / 27)\n",
        "\n",
        "# determine number and type of roots\n",
        "if delta > 0:  # one real and two complex roots\n",
        "    u = (-q/2 + cmath.sqrt(delta))**(1/3)\n",
        "    v = (-q/2 - cmath.sqrt(delta))**(1/3)\n",
        "    x1 = u + v - b / (3*a)\n",
        "    x2 = -(u + v)/2 - b / (3*a) + (u - v)*cmath.sqrt(3)/2j\n",
        "    x3 = -(u + v)/2 - b / (3*a) - (u - v)*cmath.sqrt(3)/2j\n",
        "    print(\"One real root and two complex roots:\")\n",
        "    print(\"x1 = \", x1.real)\n",
        "    print(\"x2 = \", x2)\n",
        "    print(\"x3 = \", x3)\n",
        "elif delta == 0:  # three real roots, two are equal\n",
        "    u = (-q/2)**(1/3)\n",
        "    v = u\n",
        "    x1 = 2*u - b / (3*a)\n",
        "    x2 = -u - b / (3*a)\n",
        "    print(\"Three real roots, two are equal:\")\n",
        "    print(\"x1 = \", x1.real)\n",
        "    print(\"x2 = \", x2.real)\n",
        "    print(\"x3 = \", x3.real)\n",
        "else:  # three distinct real roots\n",
        "    u = (-q/2 + cmath.sqrt(delta))**(1/3)\n",
        "    v = (-q/2 - cmath.sqrt(delta))**(1/3)\n",
        "    x1 = u + v - b / (3*a)\n",
        "    x2 = -(u + v)/2 - b / (3*a) + (u - v)*cmath.sqrt(3)/2j\n",
        "    x3 = -(u + v)/2 - b / (3*a) - (u - v)*cmath.sqrt(3)/2j\n",
        "    print(\"Three distinct real roots:\")\n",
        "    print(\"x1 = \", x1.real)\n",
        "    print(\"x2 = \", x2.real)\n",
        "    print(\"x3 = \", x3.real)\n",
        "\n",
        "print(\"y1 =\", (a*x1**3)+(b*x1**2)+c*x1+d)\n",
        "print(\"y2 =\", (a*x2**3)+(b*x2**2)+c*x2+d)\n",
        "print(\"y3 =\", (a*x3**3)+(b*x3**2)+c*x3+d)\n",
        "\n",
        "x = np.linspace(-3, 4, 1000)\n",
        "\n",
        "def cubic_eq(x,a,b,c,d):\n",
        "\n",
        "    return a*x**3 +b*x**2 + c*x + d\n",
        "\n",
        "y = cubic_eq(x,a,b,c,d)\n",
        "\n",
        "fig, ax = plt.subplots()\n",
        "ax.plot(x, y)\n",
        "\n",
        "ax.spines['left'].set_position('zero')\n",
        "ax.spines['right'].set_color('none')\n",
        "ax.spines['bottom'].set_position('zero')\n",
        "ax.spines['top'].set_color('none')\n",
        "\n",
        "plt.show()"
      ],
      "metadata": {
        "id": "ogGJzg5oR6Rv"
      },
      "execution_count": null,
      "outputs": []
    },
    {
      "cell_type": "code",
      "source": [
        "def solve(a,b,c,d):\n",
        "    Q = (3*a*c - (b**2)) / (9*(a**2))\n",
        "    R = (9*a*b*c - 27*(a**2)*d - 2*(b**3)) / (54*(a**3))\n",
        "    D = (Q**3) + (R**2)\n",
        "    S = (R + (D**(1/2)))**(1/3)\n",
        "    T = (R - (D**(1/2)))**(1/3)\n",
        "\n",
        "    x1 = S + T - (b/(3*a))\n",
        "    x2 = -((S + T)/2) - (b/(3*a)) + 0.5j * (3**(1/2)) * (S - T)\n",
        "    x3 = -((S + T)/2) - (b/(3*a)) - 0.5j * (3**(1/2)) * (S - T)\n",
        "\n",
        "    return (x1,x2,x3)"
      ],
      "metadata": {
        "id": "6JUOgwYACtBn"
      },
      "execution_count": 1,
      "outputs": []
    },
    {
      "cell_type": "code",
      "source": [
        "#21. Create a program that calculates the income tax based on the user's income and tax brackets.\n",
        "ai=int(input(\"please enter your annaual income\"))\n",
        "if(ai<300000):\n",
        "  it=0\n",
        "elif(ai>=300000 and ai<600000):\n",
        "  it=ai*0.05\n",
        "elif(ai>=600000 and ai<900000):\n",
        "  it=ai*0.1\n",
        "else:\n",
        "  it=ai*0.15\n",
        "print(\"the income tax of the given annual income of :\",ai,\"is\",it)"
      ],
      "metadata": {
        "id": "2lYRFT2iDCA1"
      },
      "execution_count": null,
      "outputs": []
    },
    {
      "cell_type": "code",
      "source": [
        "#22. Write a program that simulates a rock-paper-scissors game against the computer\n",
        "import random #we have to import this module in order to use the math.random function so that computer genrates the randon play between rock and paper and scissors\n",
        "play=[\"rock\",\"paper\",\"scissors\"] #creating a list called play where we have stored the 3 possible plays\n",
        "computer=play[random.randint(0,2)] #using random.randint function computer will choose a random number bw 0,2 which will then will be used as indexes of play list to pick rock , paper or scissors randomly\n",
        "player=input(\"Choose bw rock , paper or scissors ?\")\n",
        "print(\"This is computer's choice:\",computer)\n",
        "if(player==computer):\n",
        "  print(\"Tie\")\n",
        "elif(player==\"rock\"):\n",
        "  if(computer==\"paper\"):\n",
        "    print(\"You loose as \",computer,\"covers \",player)\n",
        "  else:\n",
        "    print(\"You won \",player,\"breaks\",computer)\n",
        "elif(player==\"paper\"):\n",
        "  if(computer==\"scissors\"):\n",
        "    print(\"You loose as \",computer,\"cuts \",player)\n",
        "  else:\n",
        "    print(\"You won \",player,\"covers\",computer)\n",
        "elif(player ==\"scissors\"):\n",
        "  if(computer==\"rock\"):\n",
        "    print(\"You loose as \",computer,\"breaks \",player)\n",
        "  else:\n",
        "    print(\"You won \",player,\"cuts\",computer)\n",
        "else:print(\"Wrong choice\")\n"
      ],
      "metadata": {
        "id": "OPQnTeutDPrX"
      },
      "execution_count": null,
      "outputs": []
    },
    {
      "cell_type": "code",
      "source": [
        "#23. Develop a program that generates a random password based on user preferences (length, complexity).\n",
        "# import modules\n",
        "import string\n",
        "import random\n",
        "\n",
        "\n",
        "# store all characters in lists\n",
        "s1 = list(string.ascii_lowercase)\n",
        "s2 = list(string.ascii_uppercase)\n",
        "s3 = list(string.digits)\n",
        "s4 = list(string.punctuation)\n",
        "\n",
        "\n",
        "# Ask user about the number of characters\n",
        "user_input = input(\"How many characters do you want in your password? \")\n",
        "\n",
        "\n",
        "# check this input is it number? is it more than 8?\n",
        "while True:\n",
        "\n",
        "    try:\n",
        "\n",
        "        characters_number = int(user_input)\n",
        "\n",
        "        if characters_number < 8:\n",
        "\n",
        "            print(\"Your number should be at least 8.\")\n",
        "\n",
        "            user_input = input(\"Please, Enter your number again: \")\n",
        "\n",
        "        else:\n",
        "\n",
        "            break\n",
        "\n",
        "    except:\n",
        "\n",
        "        print(\"Please, Enter numbers only.\")\n",
        "\n",
        "        user_input = input(\"How many characters do you want in your password? \")\n",
        "\n",
        "\n",
        "# shuffle all lists\n",
        "random.shuffle(s1)\n",
        "random.shuffle(s2)\n",
        "random.shuffle(s3)\n",
        "random.shuffle(s4)\n",
        "\n",
        "\n",
        "# calculate 30% & 20% of number of characters\n",
        "part1 = round(characters_number * (30/100))\n",
        "part2 = round(characters_number * (20/100))\n",
        "\n",
        "\n",
        "# generation of the password (60% letters and 40% digits & punctuations)\n",
        "result = []\n",
        "\n",
        "for x in range(part1):\n",
        "\n",
        "    result.append(s1[x])\n",
        "    result.append(s2[x])\n",
        "\n",
        "for x in range(part2):\n",
        "\n",
        "    result.append(s3[x])\n",
        "    result.append(s4[x])\n",
        "\n",
        "\n",
        "# shuffle result\n",
        "random.shuffle(result)\n",
        "\n",
        "\n",
        "# join result\n",
        "password = \"\".join(result)\n",
        "print(\"Strong Password: \", password)\n",
        "\n"
      ],
      "metadata": {
        "colab": {
          "base_uri": "https://localhost:8080/"
        },
        "id": "ifyihzT7aEZk",
        "outputId": "22da8fc0-d3c5-432c-e46e-acdefa0769fe"
      },
      "execution_count": 25,
      "outputs": [
        {
          "output_type": "stream",
          "name": "stdout",
          "text": [
            "How many characters do you want in your password? 9\n",
            "Strong Password:  &Bkhu4.V6G\n"
          ]
        }
      ]
    },
    {
      "cell_type": "code",
      "source": [
        "#24. Create a program that implements a simple text-based adventure game with branching scenarios.\n"
      ],
      "metadata": {
        "id": "Dj5vqr2tmiF3"
      },
      "execution_count": null,
      "outputs": []
    },
    {
      "cell_type": "code",
      "source": [
        "#30 Write a program that calculates the BMI (Body Mass Index) and provides health recommendations based on the user's input.\n",
        "w=int(input(\"enter the weight in kgs \"))\n",
        "h=int(input(\"enter the height in cms \"))\n",
        "h=(h/100)\n",
        "Bmi=w/float(h*h)\n",
        "if(Bmi<18.5):\n",
        "  print(\"Underweight\")\n",
        "  print(\"You should start doing calorie surpluss diet with main ingridient of diet being milk chicken oats banana and rice and try to focus on strength excersies rather than heavy intese cardio  \")\n",
        "elif(Bmi>=18.5 and Bmi<=24.9):\n",
        "  print(\"Normal\")\n",
        "  print(\"You are in normal range but there is always a chance of becoming overweight if you stop your exercises and healthy balanced diet , try to maintain your calorie intake keep on doing the sets of excersis that you are doing \")\n",
        "elif(Bmi>=25 and Bmi<=29.9):\n",
        "  print(\"Overweight\")\n",
        "  print(\"You are in overweight category try to avoid the junk foods packged and oily foods try to increase your cardio sessions by 20 mins atleast and try working out atleast 3 times a week \")\n",
        "elif(Bmi>=30):\n",
        "  print(\"Obese\")\n",
        "  print(\"You are in obese category try to go on calorie deficiet deit with main ingredients of diet being leafy vegitables egg whites small portion of rice dal or chicken 100-200 gms daily (boiled or stir fried preferbluy) and increase your cardio sessions by 30-40 mins and try to do 5 days strength training\")"
      ],
      "metadata": {
        "id": "1EQYN1iLu-Zh"
      },
      "execution_count": null,
      "outputs": []
    },
    {
      "cell_type": "code",
      "source": [
        "#33 Write a program that calculates the greatest common divisor (GCD) of two numbers using the Euclidean algorithm.\n",
        "def gcd(a, b):\n",
        "\n",
        "    # Everything divides 0\n",
        "    if (a == 0):\n",
        "        return b\n",
        "    if (b == 0):\n",
        "        return a\n",
        "\n",
        "    # base case\n",
        "    if (a == b):\n",
        "        return a\n",
        "\n",
        "    # a is greater\n",
        "    if (a > b):\n",
        "        return gcd(a-b, b)\n",
        "    return gcd(a, b-a)\n",
        "\n",
        "# Driver program to test above function\n",
        "a = 98\n",
        "b = 56\n",
        "if(gcd(a, b)):\n",
        "    print('GCD of', a, 'and', b, 'is', gcd(a, b))\n",
        "else:\n",
        "    print('not found')"
      ],
      "metadata": {
        "id": "dkL4t3GTxDJt"
      },
      "execution_count": null,
      "outputs": []
    },
    {
      "cell_type": "code",
      "source": [
        "#32. Develop a program that performs matrix addition and subtraction based on user input.\n",
        "import numpy as np\n",
        "\n",
        "\n",
        "# creating first matrix\n",
        "A = np.array([[1, 2], [3, 4]])\n",
        "\n",
        "# creating second matrix\n",
        "B = np.array([[4, 5], [6, 7]])\n",
        "\n",
        "print(\"Printing elements of first matrix\")\n",
        "print(A)\n",
        "print(\"Printing elements of second matrix\")\n",
        "print(B)\n",
        "user_input=input(\"Add or subtract\")\n",
        "\n",
        "if(user_input==\"add\"):\n",
        "  print(\"Addition of two matrix\")\n",
        "  print(np.add(A, B))\n",
        "elif(user_input==\"Subtarct\"):\n",
        "  print(\"Subtraction of two matrix\")\n",
        "  print(np.subtract(A, B))"
      ],
      "metadata": {
        "id": "5hdjQJngxp5-"
      },
      "execution_count": null,
      "outputs": []
    },
    {
      "cell_type": "code",
      "source": [
        "#40 40. Write a program that generates the prime factors of a given number using trial division.\n",
        "def TrialDivision(N):\n",
        "\n",
        "    # Initializing with the value 2\n",
        "    # from where the number is checked\n",
        "    i = 2\n",
        "\n",
        "    # Computing the square root of\n",
        "    # the number N\n",
        "    k = int(N ** 0.5)\n",
        "\n",
        "    # While loop till the\n",
        "    # square root of N\n",
        "    while(i<= k):\n",
        "\n",
        "        # If any of the numbers between\n",
        "        # [2, sqrt(N)] is a factor of N\n",
        "        # Then the number is composite\n",
        "        if(N % i == 0):\n",
        "            return 0\n",
        "        i += 1\n",
        "\n",
        "    # If none of the numbers is a factor,\n",
        "    # then it is a prime number\n",
        "    return 1\n",
        "\n",
        "# Driver code\n",
        "if __name__ == \"__main__\":\n",
        "    N = int(input(\"enter a number\"))\n",
        "    p = TrialDivision(N)\n",
        "\n",
        "# To check if a number is a prime or not\n",
        "    if(p):\n",
        "        print(\"Prime\")\n",
        "    else:\n",
        "        print(\"Composite\")"
      ],
      "metadata": {
        "id": "vD9AaPZ2yf5j"
      },
      "execution_count": null,
      "outputs": []
    },
    {
      "cell_type": "code",
      "source": [
        "#26. Write a program that simulates a basic quiz game with multiple-choice questions and scoring.\n",
        "print(\"Wellcome to quiz game !!\")\n",
        "print('NOTE: if your spelling is incorrect then it is considered as wrong answer')\n",
        "score = 0\n",
        "question_no = 0\n",
        "playing = input('Do you want to play ? ').lower()\n",
        "if playing == 'yes':\n",
        "    question_no += 1\n",
        "    ques = input(f'\\n{question_no}. what does CPU stand for? ').lower()\n",
        "    if ques == 'central processing unit':\n",
        "        score +=1\n",
        "        print('correct! you got 1 point')\n",
        "\n",
        "    else:\n",
        "        print('Incorrect!')\n",
        "        print(f'current answer is --> central processing unit')\n",
        "\n",
        "# ------1\n",
        "    question_no += 1\n",
        "    ques = input(f'\\n{question_no}. what does GPU stand for? ').lower()\n",
        "\n",
        "    if ques == 'graphics processing unit':\n",
        "        score +=1\n",
        "        print('correct! you got 1 point')\n",
        "\n",
        "    else:\n",
        "        print('Incorrect!')\n",
        "        print(f'current answer is --> graphics processing unit')\n",
        "\n",
        "# -----2\n",
        "    question_no += 1\n",
        "    ques = input(f'\\n{question_no}. what does RAM stand for? ').lower()\n",
        "\n",
        "    if ques == 'random access memory':\n",
        "        score +=1\n",
        "        print('correct! you got 1 point')\n",
        "\n",
        "    else:\n",
        "        print('Incorrect!')\n",
        "        print(f'current answer is --> random access memory')\n",
        "\n",
        "# -----3\n",
        "    question_no += 1\n",
        "    ques = input(f'\\n{question_no}. what does PSU stand for? ').lower()\n",
        "\n",
        "    if ques == 'power supply unit':\n",
        "        score +=1\n",
        "        print('correct! you got 1 point')\n",
        "\n",
        "    else:\n",
        "        print('Incorrect!')\n",
        "        print(f'current answer is --> power supply unit')\n",
        "\n",
        "\n",
        "# -----4\n",
        "    question_no += 1\n",
        "    ques = input(f'\\n{question_no}. what does ROM stand for? ').lower()\n",
        "\n",
        "    if ques == 'read only memory':\n",
        "        score +=1\n",
        "        print('correct! you got 1 point')\n",
        "\n",
        "    else:\n",
        "        print('Incorrect!')\n",
        "        print(f'current answer is --> read only memory')\n",
        "\n",
        "\n",
        "# ------5\n",
        "\n",
        "else:\n",
        "    print('thankyou you are out of a game.')\n",
        "    quit()\n",
        "\n",
        "print(f'\\nnumber of question is {question_no}')\n",
        "print(f'your score is {score}')\n",
        "try:\n",
        "    percentage = (score *100)/question_no\n",
        "except ZeroDivisionError:\n",
        "    print('0% quetions are correct')\n",
        "\n",
        "print(f'{percentage}% questions are correct.')\n"
      ],
      "metadata": {
        "id": "vNQKnLf5ysxc"
      },
      "execution_count": null,
      "outputs": []
    }
  ]
}