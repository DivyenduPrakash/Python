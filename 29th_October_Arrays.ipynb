{
  "nbformat": 4,
  "nbformat_minor": 0,
  "metadata": {
    "colab": {
      "provenance": []
    },
    "kernelspec": {
      "name": "python3",
      "display_name": "Python 3"
    },
    "language_info": {
      "name": "python"
    }
  },
  "cells": [
    {
      "cell_type": "code",
      "execution_count": null,
      "metadata": {
        "id": "l3_NlRLxMWnY"
      },
      "outputs": [],
      "source": [
        "# 1. Given an array, check if it contains any duplicates or not.\n",
        "#arr = [1, 2, 4, 2, 5, 9]\n",
        "#Output = True\n",
        "\n",
        "#Function\n",
        "isUnique=True\n",
        "def isDuplicate(arr):\n",
        "  isUnique=True\n",
        "  for i in range(len(arr)):\n",
        "    for j in range(len(arr)):\n",
        "      if(i!=j):\n",
        "        if(arr[i]==arr[j]):\n",
        "          isUnique=False\n",
        "  return isUnique\n",
        "\n",
        "\n",
        "#driver code\n",
        "arr=[]  #We took a empty array  so that we can save the user defined array and not pre defined\n",
        "n=int(input(\"Enter the number of elements in the array you want :\"))\n",
        "for i in range(0,n):\n",
        "    arrelement=int(input())    #Taking user input for the array elements\n",
        "    arr.append(arrelement)   #adding the elements in the array(list)\n",
        "    result=isDuplicate(arr) #calling the function\n",
        "    print(result)\n"
      ]
    },
    {
      "cell_type": "code",
      "source": [
        "#2. Given an array and an integer k, rotate the array to the right by k steps.\n",
        "#arr = [1, 2, 3, 4, 5, 6, 7] k = 3\n",
        "#Output = [5, 6, 7, 1, 2, 3, 4]\n",
        "\n",
        "# Function to reverse an array starting from index=start to index=end\n",
        "def reverseArray(arr, start, end):\n",
        "    while (start < end):\n",
        "        temp = arr[start]\n",
        "        arr[start] = arr[end]\n",
        "        arr[end] = temp\n",
        "        start += 1\n",
        "        end = end-1\n",
        "\n",
        "# Function which rotates the array of size n towards right by k times\n",
        "\n",
        "\n",
        "def rightRotation(arr, k):\n",
        "    n = len(arr)\n",
        "    reverseArray(arr, 0, n-1) #reversing the whole array\n",
        "    reverseArray(arr, k, n-1) #reversing the second part of the array i.e from k elemnets to last element\n",
        "    reverseArray(arr, 0, k-1) #reversing the first half of the array i.e from first element to kth element\n",
        "\n",
        "\n",
        "\n",
        "# Function to print an array\n",
        "def printArray(arr):\n",
        "    for i in range(0, len(arr)):\n",
        "        print(arr[i], end =\" \")\n",
        "    print(\"\\n\")\n",
        "\n",
        "\n",
        "# Driver code to check above implementation\n",
        "arr = [1, 2, 3, 4, 5, 6, 7, 8]\n",
        "print(\"Array before rotation:\")\n",
        "printArray(arr)\n",
        "rightRotation(arr, 3)  # right Rotate array by 3 places\n",
        "print(\"Array after rotation:\")\n",
        "printArray(arr)\n",
        "\n",
        "\n",
        "\n"
      ],
      "metadata": {
        "id": "lO5D2RdeRa_k"
      },
      "execution_count": null,
      "outputs": []
    },
    {
      "cell_type": "code",
      "source": [
        "#3. Reverse the given array in-place, means without using any extra data structure.\n",
        "#arr = [2, 4, 5, 7, 9, 12]\n",
        "#Output = [12, 9, 7, 5, 4, 2]\n",
        "\n",
        "# Function to reverse an array starting from index=start to index=end\n",
        "def reverseArray(arr, start, end):\n",
        "    while (start < end):\n",
        "        temp = arr[start]\n",
        "        arr[start] = arr[end]\n",
        "        arr[end] = temp\n",
        "        start += 1\n",
        "        end = end-1\n",
        "\n",
        "# Function to print an array\n",
        "def printArray(arr):\n",
        "    for i in range(0, len(arr)):\n",
        "        print(arr[i], end =\" \")\n",
        "    print(\"\\n\")\n",
        "\n",
        "#drivercode\n",
        "arr = [2, 4, 5, 7, 9, 12]\n",
        "n=len(arr)\n",
        "print(\"Array before reverse:\")\n",
        "printArray(arr)\n",
        "reverseArray(arr,0,n-1)\n",
        "print(\"Array after reverse:\")\n",
        "printArray(arr)\n"
      ],
      "metadata": {
        "id": "Z1nCjp3DTmvG"
      },
      "execution_count": null,
      "outputs": []
    },
    {
      "cell_type": "code",
      "source": [
        "#4. Given an array of integers, find the maximum element in an array\n",
        "#arr = [10, 5, 20, 8, 15]\n",
        "#Output = 20\n",
        "\n",
        "def maxElement(arr): #function for finding the max element\n",
        "  n=len(arr)\n",
        "  max=0  #a variable max intialize as 0 to compare with array elements\n",
        "  for i in range(n):\n",
        "    if arr[i]>max:\n",
        "      max=arr[i]  #updating the max if arr[i] > max so new max becomes arr[i]\n",
        "  return max\n",
        "\n",
        "arr = [10, 5, 20, 8, 15]\n",
        "result=maxElement(arr) #calling maxElement\n",
        "print(result)"
      ],
      "metadata": {
        "id": "lpIKy3HpcZcL"
      },
      "execution_count": null,
      "outputs": []
    },
    {
      "cell_type": "code",
      "source": [
        "#5. Given a sorted array, remove the duplicate element without using any extra data structure.\n",
        "#arr = [1, 1, 2, 2, 2, 3, 3, 4, 4, 4, 5, 5]\n",
        "#Output = [1, 2, 3, 4, 5]\n",
        "\n",
        "def UniqueElements(arr): #function for finding the unique element\n",
        " n=len(arr)\n",
        " for i in range(n):  #traversing through the array\n",
        "  if(arr[i]!=arr[i+1]): #checking if next element is equal to previous or not so that only 1 unique element of each number is picked\n",
        "    arr.append(arr[i]) #appending those unique element in the same array\n",
        " m=len(arr) #finding  the klenghth of this new array which will help in array slicing\n",
        " return arr[n:m:1]    #slicing the elements from n(old length) to m (new length) and step 1\n",
        "\n",
        "\n",
        "arr = [1, 1, 2, 2, 2, 3, 3, 4, 4, 4, 5, 5]\n",
        "UniqueElements(arr)"
      ],
      "metadata": {
        "colab": {
          "base_uri": "https://localhost:8080/"
        },
        "id": "5ARxHRd3ddWG",
        "outputId": "4bc867f2-2a66-47fc-c546-e1edbd081e58"
      },
      "execution_count": 9,
      "outputs": [
        {
          "output_type": "execute_result",
          "data": {
            "text/plain": [
              "[1, 2, 3, 4, 5]"
            ]
          },
          "metadata": {},
          "execution_count": 9
        }
      ]
    },
    {
      "cell_type": "code",
      "source": [],
      "metadata": {
        "id": "sldIunAUhtsm"
      },
      "execution_count": null,
      "outputs": []
    }
  ]
}